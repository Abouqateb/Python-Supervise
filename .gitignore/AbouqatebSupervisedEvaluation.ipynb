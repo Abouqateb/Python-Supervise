{
 "cells": [
  {
   "cell_type": "markdown",
   "metadata": {},
   "source": [
    "# Projet Final : Apprentissage statistique"
   ]
  },
  {
   "cell_type": "markdown",
   "metadata": {},
   "source": [
    "## Comparaison de différentes méthodes de classification"
   ]
  },
  {
   "cell_type": "markdown",
   "metadata": {},
   "source": [
    "Ce dernier projet du module **HMMA308 : Apprentissage statistique**, a pour objectif d'analyser et comparer différentes méthodes de classification, sur la base de données *digits*, en comparant leurs erreurs de classification ainsi que leur score $F1$. \n",
    "Nous allons suivre un protocole expérimental qui consiste à couper ces données en deux parties (75% pour l'apprentissage et 25% pour la validation). Ensuite, nous allons entraîner les méthodes suivantes sur la partie d'apprentissage :  \n",
    "\n",
    "$\\bullet$ Naive Bayes  \n",
    "$\\bullet$ LDA  \n",
    "$\\bullet$ Régression Logistique  \n",
    "$\\bullet$ QDA  \n",
    "$\\bullet$ k-NN (en prenant le nombre de voisins $k=1$)  \n",
    "$\\bullet$ k-NN (en choisissant $k$ par validation croisée *V-fold* avec $V = 6$)  \n",
    "$\\bullet$ Méthode de notre choix ???"
   ]
  },
  {
   "cell_type": "markdown",
   "metadata": {},
   "source": [
    "#### Packages nécessaires :"
   ]
  },
  {
   "cell_type": "code",
   "execution_count": 1,
   "metadata": {},
   "outputs": [
    {
     "name": "stderr",
     "output_type": "stream",
     "text": [
      "Using TensorFlow backend.\n"
     ]
    }
   ],
   "source": [
    "import numpy as np\n",
    "from matplotlib import pyplot as plt\n",
    "\n",
    "from sklearn.datasets import load_digits, load_wine\n",
    "from sklearn.model_selection import GridSearchCV\n",
    "from sklearn.metrics import classification_report\n",
    "from sklearn.neighbors import KNeighborsClassifier\n",
    "from sklearn.model_selection import train_test_split\n",
    "from sklearn.naive_bayes import GaussianNB\n",
    "from sklearn.discriminant_analysis import QuadraticDiscriminantAnalysis, LinearDiscriminantAnalysis\n",
    "from sklearn.linear_model import LogisticRegression\n",
    "from sklearn.svm import SVC\n",
    "from sklearn import metrics\n",
    "from sklearn.metrics import f1_score\n",
    "from sklearn.model_selection import learning_curve\n",
    "from sklearn.model_selection import ShuffleSplit\n",
    "from sklearn.ensemble import RandomForestClassifier\n",
    "\n",
    "import keras\n",
    "\n",
    "from time import perf_counter\n",
    "import random\n",
    "from pandas import DataFrame, concat, read_csv\n",
    "\n",
    "from keras.datasets import fashion_mnist"
   ]
  },
  {
   "cell_type": "markdown",
   "metadata": {},
   "source": [
    "### Préparation et synthèse de la base de données :"
   ]
  },
  {
   "cell_type": "code",
   "execution_count": 2,
   "metadata": {},
   "outputs": [],
   "source": [
    "# Chargement de la base de données digits :\n",
    "digits = load_digits()\n",
    "X, y = digits.data, digits.target\n"
   ]
  },
  {
   "cell_type": "code",
   "execution_count": null,
   "metadata": {},
   "outputs": [],
   "source": []
  },
  {
   "cell_type": "code",
   "execution_count": 3,
   "metadata": {},
   "outputs": [
    {
     "name": "stdout",
     "output_type": "stream",
     "text": [
      "La base de données contient 1797 images 8x8 (digits)\n",
      "Le nombre de features est : 64\n",
      "Le nombre de classes associées (target) est : 10\n"
     ]
    },
    {
     "data": {
      "image/png": "[encoded data removed]",
      "text/plain": [
       "<Figure size 720x360 with 10 Axes>"
      ]
     },
     "metadata": {
      "needs_background": "light"
     },
     "output_type": "display_data"
    }
   ],
   "source": [
    "# Contenu et dimensionnalité du dataset Digits :\n",
    "\n",
    "n_sample = X.shape[0]\n",
    "\n",
    "n_features = X.shape[1]\n",
    "\n",
    "target_names = digits.target_names\n",
    "n_classes = target_names.shape[0]\n",
    "\n",
    "print(\"La base de données contient\", n_sample, \"images 8x8 (digits)\")\n",
    "print(\"Le nombre de features est :\", n_features)\n",
    "print(\"Le nombre de classes associées (target) est :\", n_classes)\n",
    "\n",
    "# Visualisation du dataset :\n",
    "\n",
    "plt.figure(figsize=(10, 5))\n",
    "for index, (image, label) in enumerate(\n",
    "        list(zip(digits.images, digits.target))[0:n_classes]):\n",
    "    plt.suptitle(\"Exemple des \" + str(n_sample) +\n",
    "                 \" donnees et leurs labels respectifs\",\n",
    "                 fontsize=20)\n",
    "    plt.subplot(2, 5, index + 1)\n",
    "    plt.axis('off')\n",
    "    plt.imshow(image, interpolation='None')\n",
    "    plt.title('label : %i' % label)"
   ]
  },
  {
   "cell_type": "markdown",
   "metadata": {},
   "source": [
    "Le jeu de données *digits* contient des images *(digits.data)* correspondant à des chiffres, entre $0$ et $9$, écrit à la main. Le but est donc de classifier proprement ces chiffres dans leurs labels *(digits.target)* correspondant, par la voie des différentes méthodes de classifications que l'on a cité plus en haut."
   ]
  },
  {
   "cell_type": "markdown",
   "metadata": {},
   "source": []
  },
  {
   "cell_type": "code",
   "execution_count": 4,
   "metadata": {},
   "outputs": [
    {
     "name": "stdout",
     "output_type": "stream",
     "text": [
      "Proportions de chaque classe de 0 à  9 [0.09905398 0.10127991 0.0984975  0.10183639 0.10072343 0.10127991\n",
      " 0.10072343 0.09961046 0.09682805 0.10016694]\n",
      "Chaque classe contient ~  [178. 182. 177. 183. 181. 182. 181. 179. 174. 180.] digits\n"
     ]
    },
    {
     "data": {
      "text/plain": [
       "Text(0.5, 1.0, 'Proportion de chaque classe')"
      ]
     },
     "execution_count": 4,
     "metadata": {},
     "output_type": "execute_result"
    },
    {
     "data": {
      "image/png": "[encoded data removed]",
      "text/plain": [
       "<Figure size 432x288 with 1 Axes>"
      ]
     },
     "metadata": {},
     "output_type": "display_data"
    }
   ],
   "source": [
    "# Constituera par la suite les proportions des labels\n",
    "labels_prop = np.zeros(n_classes)\n",
    "\n",
    "for k in range(n_classes):\n",
    "    labels_prop[k] = (y == k).sum() / n_sample\n",
    "\n",
    "print(\"Proportions de chaque classe de 0 à \", n_classes - 1, labels_prop)\n",
    "print(\"Chaque classe contient ~ \", (n_sample * (labels_prop)), \"digits\")\n",
    "\n",
    "# Visualisation des proportions des classes :\n",
    "\n",
    "colors = np.r_[np.linspace(1 / n_classes, 1, n_classes),\n",
    "               np.linspace(1 / n_classes, 1, n_classes)]\n",
    "mymap = plt.get_cmap(\"Reds\")\n",
    "my_colors = mymap(colors)\n",
    "\n",
    "plt.pie(labels_prop, labels=target_names, colors=my_colors)\n",
    "plt.title(\"Proportion de chaque classe\")"
   ]
  },
  {
   "cell_type": "markdown",
   "metadata": {},
   "source": [
    "### Protocol expérimental :"
   ]
  },
  {
   "cell_type": "markdown",
   "metadata": {},
   "source": [
    "Nous découpons notre jeu de données en deux parties : $78\\%$ pour le *Training Set* et $22\\%$ pour le *Test Set* :"
   ]
  },
  {
   "cell_type": "code",
   "execution_count": 5,
   "metadata": {},
   "outputs": [
    {
     "name": "stdout",
     "output_type": "stream",
     "text": [
      "Taille du Training Set : 1401\n",
      "Taille du Test Set : 396\n"
     ]
    }
   ],
   "source": [
    "X_train, X_test, y_train, y_test = train_test_split(X,\n",
    "                                                    y,\n",
    "                                                    test_size=0.22,\n",
    "                                                    random_state=42)\n",
    "\n",
    "print(\"Taille du Training Set :\", len(X_train))\n",
    "print(\"Taille du Test Set :\", len(X_test))"
   ]
  },
  {
   "cell_type": "markdown",
   "metadata": {},
   "source": [
    "### Choix du paramètre $k$, par validation croisée *(V-fold)*, pour l'algorithme $k$-NN :"
   ]
  },
  {
   "cell_type": "code",
   "execution_count": 6,
   "metadata": {},
   "outputs": [],
   "source": [
    "def cross_validation_k(N, X_train, y_train):\n",
    "    \"\"\"\n",
    "    Choix du paramètre k pour l'algorithme k-NN, par CV (V-fold)\n",
    "\n",
    "    Parameters :\n",
    "    ------------\n",
    "    N : int, nombre de paramètres k à tester\n",
    "    X_train, y_train : array, Training set to fit the model on\n",
    "\n",
    "    \"\"\"\n",
    "\n",
    "    k_range = list(range(1, N))\n",
    "    print(\"n_voisins à tester :\", k_range)\n",
    "\n",
    "    grid_param = dict(n_neighbors=k_range)\n",
    "    print(grid_param)\n",
    "\n",
    "    scores = ['accuracy', 'f1_macro']  # Métriques d'évaluation utilisées.\n",
    "\n",
    "    # Classificateur appliquant le vote des k-voisins les plus proches\n",
    "    knn = KNeighborsClassifier()\n",
    "\n",
    "    # Recherche exhaustive sur des valeurs de paramètres spécifiées pour le k-nn model (V-fold, avec V = 6) :\n",
    "\n",
    "    grid_acc = GridSearchCV(knn, grid_param, cv=6, scoring='accuracy')\n",
    "    grid_f1 = GridSearchCV(knn, grid_param, cv=6, scoring='f1_macro')\n",
    "\n",
    "    return (grid_acc, grid_f1)"
   ]
  },
  {
   "cell_type": "code",
   "execution_count": 7,
   "metadata": {},
   "outputs": [
    {
     "name": "stdout",
     "output_type": "stream",
     "text": [
      "n_voisins à tester : [1, 2, 3, 4, 5, 6, 7, 8, 9, 10]\n",
      "{'n_neighbors': [1, 2, 3, 4, 5, 6, 7, 8, 9, 10]}\n",
      "Le Meilleur paramètre trouvé est : {'n_neighbors': 1} avec une métrique d'évaluation accuracy de : 0.9850107066381156\n",
      "Le Meilleur paramètre trouvé est : {'n_neighbors': 1} avec une métrique d'évaluation f1_macro de : 0.9849351307671057\n"
     ]
    }
   ],
   "source": [
    "grid_acc, grid_f1 = cross_validation_k(11, X_train, y_train)\n",
    "grid_acc.fit(X_train, y_train)\n",
    "grid_f1.fit(X_train, y_train)\n",
    "print (\"Le Meilleur paramètre trouvé est :\" , grid_acc.best_params_ , \n",
    "               \"avec une métrique d'évaluation accuracy de :\" , grid_acc.best_score_)\n",
    "print (\"Le Meilleur paramètre trouvé est :\" , grid_f1.best_params_ , \n",
    "               \"avec une métrique d'évaluation f1_macro de :\" , grid_f1.best_score_)"
   ]
  },
  {
   "cell_type": "code",
   "execution_count": 8,
   "metadata": {},
   "outputs": [
    {
     "name": "stdout",
     "output_type": "stream",
     "text": [
      "Prediction des labels pour le Test Set\n",
      "              precision    recall  f1-score   support\n",
      "\n",
      "           0       1.00      1.00      1.00        39\n",
      "           1       0.94      1.00      0.97        31\n",
      "           2       1.00      1.00      1.00        35\n",
      "           3       0.97      1.00      0.99        39\n",
      "           4       0.98      0.98      0.98        50\n",
      "           5       0.98      0.98      0.98        50\n",
      "           6       0.97      1.00      0.99        39\n",
      "           7       1.00      0.97      0.99        35\n",
      "           8       1.00      0.94      0.97        36\n",
      "           9       0.95      0.93      0.94        42\n",
      "\n",
      "    accuracy                           0.98       396\n",
      "   macro avg       0.98      0.98      0.98       396\n",
      "weighted avg       0.98      0.98      0.98       396\n",
      "\n"
     ]
    }
   ],
   "source": [
    "print(\"Prediction des labels pour le Test Set\")\n",
    "\n",
    "y_pred = grid_acc.predict(X_test)\n",
    "\n",
    "print(classification_report(y_test, y_pred))"
   ]
  },
  {
   "cell_type": "markdown",
   "metadata": {},
   "source": [
    "$\\bullet$ **Moralité :** Le choix optimal du paramètre $k$, pour la classification *k-NN*, par la voie de la validation croisée *V-fold*, est $k = 1$. En effet, ce choix maximise les métriques d'évaluation *(score)* de la validation croisée."
   ]
  },
  {
   "cell_type": "markdown",
   "metadata": {},
   "source": [
    "### Entraînement des méthodes sur le *Training Set*"
   ]
  },
  {
   "cell_type": "markdown",
   "metadata": {},
   "source": [
    "Maintenant que nous avons choisi le paramètre $k = 1$ optimal pour la classification par $k$ voisins les plus proches, nous procédons donc à l'entraînement des $5$ méthodes de classification sur nos données d'apprentissage *X_train*."
   ]
  },
  {
   "cell_type": "markdown",
   "metadata": {},
   "source": [
    "#### Ajustement des modèles de classification :"
   ]
  },
  {
   "cell_type": "code",
   "execution_count": 9,
   "metadata": {},
   "outputs": [],
   "source": [
    "def models_fitting(n_classes=n_classes,\n",
    "                   k=grid_acc.best_params_,\n",
    "                   X=X_train,\n",
    "                   y=y_train):\n",
    "    \"\"\"\n",
    "    Parameters :\n",
    "    ------------\n",
    "        n_classes : (int) Number of classes in our data set.\n",
    "        k : (int) Number of k neighbors. Default : Optimal k by CV V_fold.\n",
    "        X, y = Data. Default train and test sets defined earlier.\n",
    "\n",
    "    Output :\n",
    "    --------\n",
    "        train_time : list of training times for each method.\n",
    "        models : list of models (will be used further).\n",
    "\n",
    "    \"\"\"\n",
    "    # Pour les méthodes GNB, LDA et QDA, l'argument priors = Probabilités à priori des classes.\n",
    "    # Ici, nous les initions à 0.1 pour chaque classe.\n",
    "\n",
    "    # Classification naïve bayesienne :\n",
    "\n",
    "    GNB = GaussianNB(priors=np.ones(n_classes) / n_classes)\n",
    "\n",
    "    # Analyse discriminante linéaire (LDA) :\n",
    "\n",
    "    # On initialise les probabilités des différentes classes (P(Y=k)) par une loi uniforme sur 0,1,2,...,9.\n",
    "    LDA = LinearDiscriminantAnalysis(priors=np.ones(n_classes) / n_classes)\n",
    "\n",
    "    # Régression Logistique :\n",
    "\n",
    "    LR_liblin = LogisticRegression(random_state=0,\n",
    "                                   solver='liblinear',\n",
    "                                   fit_intercept=False,\n",
    "                                   multi_class='auto')\n",
    "    LR_newton = LogisticRegression(solver='newton-cg',\n",
    "                                   tol=1,\n",
    "                                   multi_class='auto')\n",
    "\n",
    "    # Analyse discriminante quadratique (QDA) :\n",
    "\n",
    "    QDA = QuadraticDiscriminantAnalysis(priors=np.ones(n_classes) / n_classes)\n",
    "\n",
    "    # Classification par k voisins les plus proches (k_NN) :\n",
    "\n",
    "    KNN = KNeighborsClassifier(n_neighbors=k)\n",
    "\n",
    "    # Machine à vecteurs de support (SVM) :\n",
    "\n",
    "    SVM = SVC(kernel='poly')\n",
    "    # On choisit le noyau 'poly' car il donne de meilleurs résultats que le noyau 'rbf' paramètre par défaut.\n",
    "\n",
    "    # Random Forests :\n",
    "\n",
    "    RF = RandomForestClassifier(n_estimators=300,\n",
    "                                class_weight='balanced',\n",
    "                                n_jobs=2,\n",
    "                                random_state=42)\n",
    "\n",
    "    # Entraînement des différentes méthodes sur le Training Set et calcul du temps de calcul pour chacun :\n",
    "\n",
    "    models = [GNB, KNN, LDA, LR_liblin, LR_newton, QDA, SVM, RF]\n",
    "\n",
    "    train_time = []\n",
    "\n",
    "    for i, model in enumerate(models):\n",
    "\n",
    "        t1 = perf_counter()\n",
    "        model.fit(X_train, y_train)\n",
    "        t2 = perf_counter()\n",
    "\n",
    "        train_time = np.append(train_time, t2 - t1)\n",
    "\n",
    "    return (train_time, models)"
   ]
  },
  {
   "cell_type": "code",
   "execution_count": 10,
   "metadata": {},
   "outputs": [
    {
     "name": "stderr",
     "output_type": "stream",
     "text": [
      "C:\\Users\\utilisateur\\Anaconda3\\lib\\site-packages\\sklearn\\discriminant_analysis.py:388: UserWarning: Variables are collinear.\n",
      "  warnings.warn(\"Variables are collinear.\")\n",
      "C:\\Users\\utilisateur\\Anaconda3\\lib\\site-packages\\sklearn\\discriminant_analysis.py:693: UserWarning: Variables are collinear\n",
      "  warnings.warn(\"Variables are collinear\")\n",
      "C:\\Users\\utilisateur\\Anaconda3\\lib\\site-packages\\sklearn\\svm\\base.py:193: FutureWarning: The default value of gamma will change from 'auto' to 'scale' in version 0.22 to account better for unscaled features. Set gamma explicitly to 'auto' or 'scale' to avoid this warning.\n",
      "  \"avoid this warning.\", FutureWarning)\n"
     ]
    },
    {
     "data": {
      "text/html": [
       "<div>\n",
       "<style scoped>\n",
       "    .dataframe tbody tr th:only-of-type {\n",
       "        vertical-align: middle;\n",
       "    }\n",
       "\n",
       "    .dataframe tbody tr th {\n",
       "        vertical-align: top;\n",
       "    }\n",
       "\n",
       "    .dataframe thead th {\n",
       "        text-align: right;\n",
       "    }\n",
       "</style>\n",
       "<table border=\"1\" class=\"dataframe\">\n",
       "  <thead>\n",
       "    <tr style=\"text-align: right;\">\n",
       "      <th></th>\n",
       "      <th>GNB</th>\n",
       "      <th>1-NN</th>\n",
       "      <th>KNNLDA</th>\n",
       "      <th>LR_liblinear</th>\n",
       "      <th>LR_newton</th>\n",
       "      <th>QDA</th>\n",
       "      <th>SVM</th>\n",
       "      <th>RF</th>\n",
       "    </tr>\n",
       "  </thead>\n",
       "  <tbody>\n",
       "    <tr>\n",
       "      <td>Temps de calcul pour l'apprentissage, en seconde</td>\n",
       "      <td>0.004988</td>\n",
       "      <td>0.005241</td>\n",
       "      <td>0.026848</td>\n",
       "      <td>0.229563</td>\n",
       "      <td>0.107568</td>\n",
       "      <td>0.016926</td>\n",
       "      <td>0.054501</td>\n",
       "      <td>0.753482</td>\n",
       "    </tr>\n",
       "  </tbody>\n",
       "</table>\n",
       "</div>"
      ],
      "text/plain": [
       "                                                       GNB      1-NN  \\\n",
       "Temps de calcul pour l'apprentissage, en seconde  0.004988  0.005241   \n",
       "\n",
       "                                                    KNNLDA  LR_liblinear  \\\n",
       "Temps de calcul pour l'apprentissage, en seconde  0.026848      0.229563   \n",
       "\n",
       "                                                  LR_newton       QDA  \\\n",
       "Temps de calcul pour l'apprentissage, en seconde   0.107568  0.016926   \n",
       "\n",
       "                                                       SVM        RF  \n",
       "Temps de calcul pour l'apprentissage, en seconde  0.054501  0.753482  "
      ]
     },
     "execution_count": 10,
     "metadata": {},
     "output_type": "execute_result"
    }
   ],
   "source": [
    "names = [\n",
    "    \"GNB\", \"1-NN\", \"KNN\"\n",
    "    \"LDA\", \"LR_liblinear\", \"LR_newton\", \"QDA\", \"SVM\", \"RF\"\n",
    "]\n",
    "\n",
    "train_time = models_fitting(n_classes, k=1)[0]\n",
    "\n",
    "train_times = DataFrame(\n",
    "    [train_time],\n",
    "    index=[\"Temps de calcul pour l'apprentissage, en seconde\"],\n",
    "    columns=names)\n",
    "train_times"
   ]
  },
  {
   "cell_type": "markdown",
   "metadata": {},
   "source": [
    "### Validation de la performance de chaque modèle :"
   ]
  },
  {
   "cell_type": "markdown",
   "metadata": {},
   "source": [
    "#### Proportion d'erreurs de classification faite sur le Test Set : "
   ]
  },
  {
   "cell_type": "code",
   "execution_count": 11,
   "metadata": {},
   "outputs": [],
   "source": [
    "def classification_errors(models, X=X_test, y=y_test):\n",
    "    \"\"\"\n",
    "    Adjust the classification errors for each model from 'models'.\n",
    "\n",
    "    Parameters :\n",
    "    ------------\n",
    "        models : list of sklearn objects models.\n",
    "        X, y : Arrays to be tested on. Default : X_test, y_test.\n",
    "\n",
    "    Output :\n",
    "    --------\n",
    "        erreurs : (list) classification errors for each model\n",
    "    \"\"\"\n",
    "\n",
    "    erreurs = []\n",
    "\n",
    "    for i, model in enumerate(models):\n",
    "        erreurs = np.append(erreurs, (1 - model.score(X_test, y_test)) * 100)\n",
    "\n",
    "    return (erreurs)"
   ]
  },
  {
   "cell_type": "code",
   "execution_count": 12,
   "metadata": {},
   "outputs": [
    {
     "name": "stderr",
     "output_type": "stream",
     "text": [
      "C:\\Users\\utilisateur\\Anaconda3\\lib\\site-packages\\sklearn\\discriminant_analysis.py:388: UserWarning: Variables are collinear.\n",
      "  warnings.warn(\"Variables are collinear.\")\n",
      "C:\\Users\\utilisateur\\Anaconda3\\lib\\site-packages\\sklearn\\discriminant_analysis.py:693: UserWarning: Variables are collinear\n",
      "  warnings.warn(\"Variables are collinear\")\n",
      "C:\\Users\\utilisateur\\Anaconda3\\lib\\site-packages\\sklearn\\svm\\base.py:193: FutureWarning: The default value of gamma will change from 'auto' to 'scale' in version 0.22 to account better for unscaled features. Set gamma explicitly to 'auto' or 'scale' to avoid this warning.\n",
      "  \"avoid this warning.\", FutureWarning)\n"
     ]
    },
    {
     "data": {
      "text/html": [
       "<div>\n",
       "<style scoped>\n",
       "    .dataframe tbody tr th:only-of-type {\n",
       "        vertical-align: middle;\n",
       "    }\n",
       "\n",
       "    .dataframe tbody tr th {\n",
       "        vertical-align: top;\n",
       "    }\n",
       "\n",
       "    .dataframe thead th {\n",
       "        text-align: right;\n",
       "    }\n",
       "</style>\n",
       "<table border=\"1\" class=\"dataframe\">\n",
       "  <thead>\n",
       "    <tr style=\"text-align: right;\">\n",
       "      <th></th>\n",
       "      <th>GNB</th>\n",
       "      <th>1-NN</th>\n",
       "      <th>KNNLDA</th>\n",
       "      <th>LR_liblinear</th>\n",
       "      <th>LR_newton</th>\n",
       "      <th>QDA</th>\n",
       "      <th>SVM</th>\n",
       "      <th>RF</th>\n",
       "    </tr>\n",
       "  </thead>\n",
       "  <tbody>\n",
       "    <tr>\n",
       "      <td>Proportion d'erreurs de classification</td>\n",
       "      <td>13.636364</td>\n",
       "      <td>2.020202</td>\n",
       "      <td>5.30303</td>\n",
       "      <td>3.535354</td>\n",
       "      <td>2.525253</td>\n",
       "      <td>10.858586</td>\n",
       "      <td>1.262626</td>\n",
       "      <td>2.272727</td>\n",
       "    </tr>\n",
       "  </tbody>\n",
       "</table>\n",
       "</div>"
      ],
      "text/plain": [
       "                                              GNB      1-NN   KNNLDA  \\\n",
       "Proportion d'erreurs de classification  13.636364  2.020202  5.30303   \n",
       "\n",
       "                                        LR_liblinear  LR_newton        QDA  \\\n",
       "Proportion d'erreurs de classification      3.535354   2.525253  10.858586   \n",
       "\n",
       "                                             SVM        RF  \n",
       "Proportion d'erreurs de classification  1.262626  2.272727  "
      ]
     },
     "execution_count": 12,
     "metadata": {},
     "output_type": "execute_result"
    }
   ],
   "source": [
    "models = models_fitting(n_classes, k = 1)[1]\n",
    "\n",
    "erreurs = classification_errors(models)\n",
    "errors_frame = DataFrame([erreurs], index = [\"Proportion d'erreurs de classification\"], columns = names)\n",
    "errors_frame"
   ]
  },
  {
   "cell_type": "code",
   "execution_count": null,
   "metadata": {},
   "outputs": [],
   "source": []
  },
  {
   "cell_type": "markdown",
   "metadata": {},
   "source": [
    "#### Le score F1 sur le Test Set, pour chaque méthode :"
   ]
  },
  {
   "cell_type": "code",
   "execution_count": 13,
   "metadata": {},
   "outputs": [],
   "source": [
    "def f1_score_test(models, x=X_test, y=y_test):\n",
    "    \"\"\"\n",
    "    Adjust the F1 scores for each model from 'models'.\n",
    "\n",
    "    Parameters :\n",
    "    ------------\n",
    "        models : list of sklearn objects models.\n",
    "        X, y : Arrays to be tested on. Default : X_test, y_test.\n",
    "\n",
    "    Output :\n",
    "    --------\n",
    "        score_F1 : (list) F1 scores for each model.\n",
    "        test_time : (list) Time for validation in seconds.\n",
    "    \"\"\"\n",
    "\n",
    "    score_F1 = []\n",
    "    test_time = []\n",
    "\n",
    "    for i, model in enumerate(models):\n",
    "\n",
    "        t0 = perf_counter()\n",
    "        y_pred = model.predict(X_test)\n",
    "        t1 = perf_counter()\n",
    "\n",
    "        test_time = np.append(test_time, t1 - t0)\n",
    "\n",
    "        score_F1 = np.append(score_F1, f1_score(y_test,\n",
    "                                                y_pred,\n",
    "                                                average='macro'))\n",
    "\n",
    "    return (score_F1, test_time)"
   ]
  },
  {
   "cell_type": "code",
   "execution_count": 14,
   "metadata": {},
   "outputs": [
    {
     "data": {
      "text/html": [
       "<div>\n",
       "<style scoped>\n",
       "    .dataframe tbody tr th:only-of-type {\n",
       "        vertical-align: middle;\n",
       "    }\n",
       "\n",
       "    .dataframe tbody tr th {\n",
       "        vertical-align: top;\n",
       "    }\n",
       "\n",
       "    .dataframe thead th {\n",
       "        text-align: right;\n",
       "    }\n",
       "</style>\n",
       "<table border=\"1\" class=\"dataframe\">\n",
       "  <thead>\n",
       "    <tr style=\"text-align: right;\">\n",
       "      <th></th>\n",
       "      <th>GNB</th>\n",
       "      <th>1-NN</th>\n",
       "      <th>KNNLDA</th>\n",
       "      <th>LR_liblinear</th>\n",
       "      <th>LR_newton</th>\n",
       "      <th>QDA</th>\n",
       "      <th>SVM</th>\n",
       "      <th>RF</th>\n",
       "    </tr>\n",
       "  </thead>\n",
       "  <tbody>\n",
       "    <tr>\n",
       "      <td>Temps de calcul pour la validation, en seconde</td>\n",
       "      <td>0.010481</td>\n",
       "      <td>0.102767</td>\n",
       "      <td>0.000449</td>\n",
       "      <td>0.000352</td>\n",
       "      <td>0.000317</td>\n",
       "      <td>0.002335</td>\n",
       "      <td>0.014873</td>\n",
       "      <td>0.104215</td>\n",
       "    </tr>\n",
       "  </tbody>\n",
       "</table>\n",
       "</div>"
      ],
      "text/plain": [
       "                                                     GNB      1-NN    KNNLDA  \\\n",
       "Temps de calcul pour la validation, en seconde  0.010481  0.102767  0.000449   \n",
       "\n",
       "                                                LR_liblinear  LR_newton  \\\n",
       "Temps de calcul pour la validation, en seconde      0.000352   0.000317   \n",
       "\n",
       "                                                     QDA       SVM        RF  \n",
       "Temps de calcul pour la validation, en seconde  0.002335  0.014873  0.104215  "
      ]
     },
     "execution_count": 14,
     "metadata": {},
     "output_type": "execute_result"
    }
   ],
   "source": [
    "test_time = f1_score_test(models)[1]\n",
    "\n",
    "validation_times = DataFrame(\n",
    "    [test_time],\n",
    "    index=[\"Temps de calcul pour la validation, en seconde\"],\n",
    "    columns=names)\n",
    "validation_times"
   ]
  },
  {
   "cell_type": "code",
   "execution_count": 15,
   "metadata": {},
   "outputs": [
    {
     "data": {
      "text/html": [
       "<div>\n",
       "<style scoped>\n",
       "    .dataframe tbody tr th:only-of-type {\n",
       "        vertical-align: middle;\n",
       "    }\n",
       "\n",
       "    .dataframe tbody tr th {\n",
       "        vertical-align: top;\n",
       "    }\n",
       "\n",
       "    .dataframe thead th {\n",
       "        text-align: right;\n",
       "    }\n",
       "</style>\n",
       "<table border=\"1\" class=\"dataframe\">\n",
       "  <thead>\n",
       "    <tr style=\"text-align: right;\">\n",
       "      <th></th>\n",
       "      <th>GNB</th>\n",
       "      <th>1-NN</th>\n",
       "      <th>KNNLDA</th>\n",
       "      <th>LR_liblinear</th>\n",
       "      <th>LR_newton</th>\n",
       "      <th>QDA</th>\n",
       "      <th>SVM</th>\n",
       "      <th>RF</th>\n",
       "    </tr>\n",
       "  </thead>\n",
       "  <tbody>\n",
       "    <tr>\n",
       "      <td>Score F1 pour chaque méthode</td>\n",
       "      <td>0.860286</td>\n",
       "      <td>0.980013</td>\n",
       "      <td>0.944863</td>\n",
       "      <td>0.965019</td>\n",
       "      <td>0.976286</td>\n",
       "      <td>0.892469</td>\n",
       "      <td>0.987588</td>\n",
       "      <td>0.978283</td>\n",
       "    </tr>\n",
       "  </tbody>\n",
       "</table>\n",
       "</div>"
      ],
      "text/plain": [
       "                                   GNB      1-NN    KNNLDA  LR_liblinear  \\\n",
       "Score F1 pour chaque méthode  0.860286  0.980013  0.944863      0.965019   \n",
       "\n",
       "                              LR_newton       QDA       SVM        RF  \n",
       "Score F1 pour chaque méthode   0.976286  0.892469  0.987588  0.978283  "
      ]
     },
     "execution_count": 15,
     "metadata": {},
     "output_type": "execute_result"
    }
   ],
   "source": [
    "score_F1 = f1_score_test(models)[0]\n",
    "\n",
    "scoref1_frame = DataFrame([score_F1],\n",
    "                          index=[\"Score F1 pour chaque méthode\"],\n",
    "                          columns=names)\n",
    "scoref1_frame"
   ]
  },
  {
   "cell_type": "markdown",
   "metadata": {},
   "source": [
    "### Synthèse de la performance des méthodes de classification :"
   ]
  },
  {
   "cell_type": "code",
   "execution_count": 16,
   "metadata": {},
   "outputs": [
    {
     "data": {
      "text/html": [
       "<div>\n",
       "<style scoped>\n",
       "    .dataframe tbody tr th:only-of-type {\n",
       "        vertical-align: middle;\n",
       "    }\n",
       "\n",
       "    .dataframe tbody tr th {\n",
       "        vertical-align: top;\n",
       "    }\n",
       "\n",
       "    .dataframe thead th {\n",
       "        text-align: right;\n",
       "    }\n",
       "</style>\n",
       "<table border=\"1\" class=\"dataframe\">\n",
       "  <thead>\n",
       "    <tr style=\"text-align: right;\">\n",
       "      <th></th>\n",
       "      <th>GNB</th>\n",
       "      <th>1-NN</th>\n",
       "      <th>KNNLDA</th>\n",
       "      <th>LR_liblinear</th>\n",
       "      <th>LR_newton</th>\n",
       "      <th>QDA</th>\n",
       "      <th>SVM</th>\n",
       "      <th>RF</th>\n",
       "    </tr>\n",
       "  </thead>\n",
       "  <tbody>\n",
       "    <tr>\n",
       "      <td>Temps de calcul pour l'apprentissage, en seconde</td>\n",
       "      <td>0.004988</td>\n",
       "      <td>0.005241</td>\n",
       "      <td>0.026848</td>\n",
       "      <td>0.229563</td>\n",
       "      <td>0.107568</td>\n",
       "      <td>0.016926</td>\n",
       "      <td>0.054501</td>\n",
       "      <td>0.753482</td>\n",
       "    </tr>\n",
       "    <tr>\n",
       "      <td>Temps de calcul pour la validation, en seconde</td>\n",
       "      <td>0.010481</td>\n",
       "      <td>0.102767</td>\n",
       "      <td>0.000449</td>\n",
       "      <td>0.000352</td>\n",
       "      <td>0.000317</td>\n",
       "      <td>0.002335</td>\n",
       "      <td>0.014873</td>\n",
       "      <td>0.104215</td>\n",
       "    </tr>\n",
       "    <tr>\n",
       "      <td>Proportion d'erreurs de classification</td>\n",
       "      <td>13.636364</td>\n",
       "      <td>2.020202</td>\n",
       "      <td>5.303030</td>\n",
       "      <td>3.535354</td>\n",
       "      <td>2.525253</td>\n",
       "      <td>10.858586</td>\n",
       "      <td>1.262626</td>\n",
       "      <td>2.272727</td>\n",
       "    </tr>\n",
       "    <tr>\n",
       "      <td>Score F1 pour chaque méthode</td>\n",
       "      <td>0.860286</td>\n",
       "      <td>0.980013</td>\n",
       "      <td>0.944863</td>\n",
       "      <td>0.965019</td>\n",
       "      <td>0.976286</td>\n",
       "      <td>0.892469</td>\n",
       "      <td>0.987588</td>\n",
       "      <td>0.978283</td>\n",
       "    </tr>\n",
       "  </tbody>\n",
       "</table>\n",
       "</div>"
      ],
      "text/plain": [
       "                                                        GNB      1-NN  \\\n",
       "Temps de calcul pour l'apprentissage, en seconde   0.004988  0.005241   \n",
       "Temps de calcul pour la validation, en seconde     0.010481  0.102767   \n",
       "Proportion d'erreurs de classification            13.636364  2.020202   \n",
       "Score F1 pour chaque méthode                       0.860286  0.980013   \n",
       "\n",
       "                                                    KNNLDA  LR_liblinear  \\\n",
       "Temps de calcul pour l'apprentissage, en seconde  0.026848      0.229563   \n",
       "Temps de calcul pour la validation, en seconde    0.000449      0.000352   \n",
       "Proportion d'erreurs de classification            5.303030      3.535354   \n",
       "Score F1 pour chaque méthode                      0.944863      0.965019   \n",
       "\n",
       "                                                  LR_newton        QDA  \\\n",
       "Temps de calcul pour l'apprentissage, en seconde   0.107568   0.016926   \n",
       "Temps de calcul pour la validation, en seconde     0.000317   0.002335   \n",
       "Proportion d'erreurs de classification             2.525253  10.858586   \n",
       "Score F1 pour chaque méthode                       0.976286   0.892469   \n",
       "\n",
       "                                                       SVM        RF  \n",
       "Temps de calcul pour l'apprentissage, en seconde  0.054501  0.753482  \n",
       "Temps de calcul pour la validation, en seconde    0.014873  0.104215  \n",
       "Proportion d'erreurs de classification            1.262626  2.272727  \n",
       "Score F1 pour chaque méthode                      0.987588  0.978283  "
      ]
     },
     "execution_count": 16,
     "metadata": {},
     "output_type": "execute_result"
    }
   ],
   "source": [
    "synthese = concat(\n",
    "    [train_times, validation_times, errors_frame, scoref1_frame], )\n",
    "synthese"
   ]
  },
  {
   "cell_type": "markdown",
   "metadata": {},
   "source": [
    "#### Matrices de confusion :"
   ]
  },
  {
   "cell_type": "markdown",
   "metadata": {},
   "source": [
    "Nous allons afficher les matrices de confusions de la meilleure et de la pire des méthodes obtenues (au sens de la proportion d'erreurs de classification)"
   ]
  },
  {
   "cell_type": "code",
   "execution_count": 17,
   "metadata": {},
   "outputs": [
    {
     "name": "stdout",
     "output_type": "stream",
     "text": [
      "Le méthode  SVM , a la plus petite proportion d'erreurs de classification : 1.2626262626262652\n",
      "Le méthode  GNB , a la plus grande proportion d'erreurs de classification : 13.636363636363635\n"
     ]
    }
   ],
   "source": [
    "print(\"Le méthode \",\n",
    "      DataFrame.idxmin(errors_frame, axis=1)[0],\n",
    "      \", a la plus petite proportion d'erreurs de classification :\",\n",
    "      DataFrame.min(errors_frame, axis=1)[0])\n",
    "\n",
    "print(\"Le méthode \",\n",
    "      DataFrame.idxmax(errors_frame, axis=1)[0],\n",
    "      \", a la plus grande proportion d'erreurs de classification :\",\n",
    "      DataFrame.max(errors_frame, axis=1)[0])"
   ]
  },
  {
   "cell_type": "code",
   "execution_count": 18,
   "metadata": {},
   "outputs": [
    {
     "data": {
      "image/png": "[encoded data removed]",
      "text/plain": [
       "<Figure size 288x288 with 1 Axes>"
      ]
     },
     "metadata": {
      "needs_background": "light"
     },
     "output_type": "display_data"
    },
    {
     "data": {
      "image/png": "[encoded data removed]",
      "text/plain": [
       "<Figure size 288x288 with 1 Axes>"
      ]
     },
     "metadata": {
      "needs_background": "light"
     },
     "output_type": "display_data"
    }
   ],
   "source": [
    "# Indices de la \"meilleure\" et \"pire\" des méthodes.\n",
    "idx_models = [np.argmin(erreurs), np.argmax(erreurs)]\n",
    "\n",
    "for i in range(2):\n",
    "    y_pred = models[idx_models[i]].predict(X_test)\n",
    "    MC = metrics.confusion_matrix(y_test, y_pred)\n",
    "    MC_norm = 1.0 * MC / MC.sum(axis=1)[:, np.newaxis]\n",
    "    # On normalise la matrice de confusion pour qu'elle représente\n",
    "    # la proportion et pas le nombre d'erreurs pour chaque classe.\n",
    "    plt.matshow(MC_norm, cmap=plt.cm.Spectral_r, interpolation='none')\n",
    "    plt.title(\"Matrice de confusion de la méthode \" + names[idx_models[i]],\n",
    "              fontsize=20,\n",
    "              pad=20)\n",
    "    plt.xlabel(\"Predicted\")\n",
    "    plt.ylabel(\"True\")"
   ]
  },
  {
   "cell_type": "markdown",
   "metadata": {},
   "source": [
    "$\\bullet$  **Moralité :** Pour le classifieurs SVM, la diagonale est en rouge et pour le reste c'est en bleu. On observe donc très peu d'erreurs. Contrairement au GNB, les erreurs sont très courantes\n"
   ]
  },
  {
   "cell_type": "markdown",
   "metadata": {},
   "source": [
    "### Courbe d'apprentissage sur la méthode *k-NN* :"
   ]
  },
  {
   "cell_type": "code",
   "execution_count": 19,
   "metadata": {},
   "outputs": [],
   "source": [
    "def plot_learning_curve(estimator,\n",
    "                        title,\n",
    "                        X,\n",
    "                        y,\n",
    "                        ylim=None,\n",
    "                        cv=None,\n",
    "                        n_jobs=None,\n",
    "                        train_sizes=np.linspace(.1, 1.0, 5)):\n",
    "    \"\"\"\n",
    "    Generate a simple plot of the test and training learning curve.\n",
    "\n",
    "    Parameters\n",
    "    ----------\n",
    "    estimator : object type that implements the \"fit\" and \"predict\" methods\n",
    "        An object of that type which is cloned for each validation.\n",
    "\n",
    "    title : string\n",
    "        Title for the chart.\n",
    "\n",
    "    X : array-like, shape (n_samples, n_features)\n",
    "        Training vector, where n_samples is the number of samples and\n",
    "        n_features is the number of features.\n",
    "\n",
    "    y : array-like, shape (n_samples) or (n_samples, n_features), optional\n",
    "        Target relative to X for classification or regression;\n",
    "        None for unsupervised learning.\n",
    "\n",
    "    ylim : tuple, shape (ymin, ymax), optional\n",
    "        Defines minimum and maximum yvalues plotted.\n",
    "\n",
    "    cv : int, cross-validation generator or an iterable, optional\n",
    "        Determines the cross-validation splitting strategy.\n",
    "        Possible inputs for cv are:\n",
    "          - None, to use the default 3-fold cross-validation,\n",
    "          - integer, to specify the number of folds.\n",
    "          - :term:`CV splitter`,\n",
    "          - An iterable yielding (train, test) splits as arrays of indices.\n",
    "\n",
    "        For integer/None inputs, if ``y`` is binary or multiclass,\n",
    "        :class:`StratifiedKFold` used. If the estimator is not a classifier\n",
    "        or if ``y`` is neither binary nor multiclass, :class:`KFold` is used.\n",
    "\n",
    "        Refer :ref:`User Guide <cross_validation>` for the various\n",
    "        cross-validators that can be used here.\n",
    "\n",
    "    n_jobs : int or None, optional (default=None)\n",
    "        Number of jobs to run in parallel.\n",
    "        ``None`` means 1 unless in a :obj:`joblib.parallel_backend` context.\n",
    "        ``-1`` means using all processors. See :term:`Glossary <n_jobs>`\n",
    "        for more details.\n",
    "\n",
    "    train_sizes : array-like, shape (n_ticks,), dtype float or int\n",
    "        Relative or absolute numbers of training examples that will be used to\n",
    "        generate the learning curve. If the dtype is float, it is regarded as a\n",
    "        fraction of the maximum size of the training set (that is determined\n",
    "        by the selected validation method), i.e. it has to be within (0, 1].\n",
    "        Otherwise it is interpreted as absolute sizes of the training sets.\n",
    "        Note that for classification the number of samples usually have to\n",
    "        be big enough to contain at least one sample from each class.\n",
    "        (default: np.linspace(0.1, 1.0, 5))\n",
    "    \"\"\"\n",
    "    plt.figure()\n",
    "    plt.title(title)\n",
    "    if ylim is not None:\n",
    "        plt.ylim(*ylim)\n",
    "    plt.xlabel(\"Training examples\")\n",
    "    plt.ylabel(\"Score\")\n",
    "    train_sizes, train_scores, test_scores = learning_curve(\n",
    "        estimator, X, y, cv=cv, n_jobs=n_jobs, train_sizes=train_sizes)\n",
    "    train_scores_mean = np.mean(train_scores, axis=1)\n",
    "    train_scores_std = np.std(train_scores, axis=1)\n",
    "    test_scores_mean = np.mean(test_scores, axis=1)\n",
    "    test_scores_std = np.std(test_scores, axis=1)\n",
    "    plt.grid()\n",
    "\n",
    "    plt.fill_between(train_sizes,\n",
    "                     train_scores_mean - train_scores_std,\n",
    "                     train_scores_mean + train_scores_std,\n",
    "                     alpha=0.1,\n",
    "                     color=\"r\")\n",
    "    plt.fill_between(train_sizes,\n",
    "                     test_scores_mean - test_scores_std,\n",
    "                     test_scores_mean + test_scores_std,\n",
    "                     alpha=0.1,\n",
    "                     color=\"g\")\n",
    "    plt.plot(train_sizes,\n",
    "             train_scores_mean,\n",
    "             'o-',\n",
    "             color=\"r\",\n",
    "             label=\"Training score\")\n",
    "    plt.plot(train_sizes,\n",
    "             test_scores_mean,\n",
    "             'o-',\n",
    "             color=\"g\",\n",
    "             label=\"Cross-validation score\")\n",
    "\n",
    "    plt.legend(loc=\"best\")\n",
    "    return plt"
   ]
  },
  {
   "cell_type": "code",
   "execution_count": 20,
   "metadata": {},
   "outputs": [
    {
     "data": {
      "text/plain": [
       "<module 'matplotlib.pyplot' from 'C:\\\\Users\\\\utilisateur\\\\Anaconda3\\\\lib\\\\site-packages\\\\matplotlib\\\\pyplot.py'>"
      ]
     },
     "execution_count": 20,
     "metadata": {},
     "output_type": "execute_result"
    },
    {
     "data": {
      "text/plain": [
       "<Figure size 720x720 with 0 Axes>"
      ]
     },
     "metadata": {},
     "output_type": "display_data"
    },
    {
     "data": {
      "image/png": "[encoded data removed]",
      "text/plain": [
       "<Figure size 432x288 with 1 Axes>"
      ]
     },
     "metadata": {
      "needs_background": "light"
     },
     "output_type": "display_data"
    }
   ],
   "source": [
    "title = \"Learning Curves (k-NN)\"\n",
    "#cv = ShuffleSplit(n_splits=100, test_size=0.2, random_state=0)\n",
    "\n",
    "plt.figure(figsize=(10, 10))\n",
    "\n",
    "plot_learning_curve(models[1], title, X, y, ylim=(0.7, 1.01), cv=6, n_jobs=4)"
   ]
  },
  {
   "cell_type": "markdown",
   "metadata": {},
   "source": [
    "### Synthèse :"
   ]
  },
  {
   "cell_type": "markdown",
   "metadata": {},
   "source": [
    "$\\bullet$ Nous remarquons que pour les méthodes GNB et KNN, la phase entraînement est très rapide. Cependant, la phase de validation est très longue.  \n",
    "$\\bullet$ Pour la LR et LDA, elles sont très lentes pendant la phase entraînement. Or, très rapide pendant la validation.  \n",
    "\n",
    "Moralité : Un classifieur qui prend du temps à apprendre, prend les décisions rapidement. Et inversement, si l'apprentissage est rapide, la prise de décision tarde. \n",
    "Nous pouvons dire que intuitivement cela est très logique."
   ]
  },
  {
   "cell_type": "markdown",
   "metadata": {},
   "source": [
    "## Application sur notre base de données :"
   ]
  },
  {
   "cell_type": "markdown",
   "metadata": {},
   "source": [
    "Nous utilisons ici la base de données *wine* de *sklearn*. Nous avons utilisé cette base de données, comme dernier recours, après avoir essayé plusieurs base de données. En effet, nous avons eu des difficultés concernant :  \n",
    "\n",
    "$\\bullet$ **Fashion MNIST** : Quand on \"reshape\" les images, on obtient un X.shape = (60000, 28x28) ce qui nous plante le notebook à chaque fois.  \n",
    "$\\bullet$ **Datasets Kaggle** : On a trouvé pas mal de datasets qui étaient bons pour notre projet. Par contre, nous n'arrivons pas a extraire l'URL, c'est, apparemment, lié au fait qu'il faut se connecter sur Kaggle. Et vu que l'énoncé nous demande de ne pas télécharger les datasets, on pouvait pas faire autrement.  \n",
    "$\\bullet$ **UCI** : Nous avons trouvé ici 2 types de problèmes. La majorité des bases de données étaient soit avec des proportions différentes pour les classes, chose qui colait pas avec notre algo. Soit, des valeurs manquantes et donc si on les enlève on retombe sur le premier problème.\n",
    "\n",
    "Finalement nous avons utilisé *make_blobs*, *iris* et *wine*. Et nous somme resté sur la dernière. Cependant, les résultats ne sont pas satisfaisants et les datasets ne sont pas très intéressants."
   ]
  },
  {
   "cell_type": "markdown",
   "metadata": {},
   "source": [
    "#### Importer la base de données :"
   ]
  },
  {
   "cell_type": "code",
   "execution_count": 21,
   "metadata": {},
   "outputs": [],
   "source": [
    "wine = load_wine()\n",
    "X, y = wine.data, wine.target"
   ]
  },
  {
   "cell_type": "markdown",
   "metadata": {},
   "source": [
    "#### Contenu et dimensionnalité du dataset :"
   ]
  },
  {
   "cell_type": "code",
   "execution_count": 22,
   "metadata": {},
   "outputs": [
    {
     "name": "stdout",
     "output_type": "stream",
     "text": [
      "['alcohol', 'malic_acid', 'ash', 'alcalinity_of_ash', 'magnesium', 'total_phenols', 'flavanoids', 'nonflavanoid_phenols', 'proanthocyanins', 'color_intensity', 'hue', 'od280/od315_of_diluted_wines', 'proline']\n",
      "['class_0' 'class_1' 'class_2']\n"
     ]
    }
   ],
   "source": [
    "print(wine.feature_names)\n",
    "print(wine.target_names)"
   ]
  },
  {
   "cell_type": "code",
   "execution_count": 23,
   "metadata": {},
   "outputs": [
    {
     "name": "stdout",
     "output_type": "stream",
     "text": [
      "La base de données contient 178 observations\n",
      "Le nombre de features est : 13\n",
      "Le nombre de classes associées (target) est : 3\n"
     ]
    }
   ],
   "source": [
    "n_sample = X.shape[0]\n",
    "\n",
    "n_features = X.shape[1]\n",
    "\n",
    "target_names = wine.target_names\n",
    "n_classes = target_names.shape[0]\n",
    "\n",
    "print(\"La base de données contient\", n_sample, \"observations\")\n",
    "print(\"Le nombre de features est :\", n_features)\n",
    "print(\"Le nombre de classes associées (target) est :\", n_classes)"
   ]
  },
  {
   "cell_type": "code",
   "execution_count": 24,
   "metadata": {},
   "outputs": [
    {
     "name": "stdout",
     "output_type": "stream",
     "text": [
      "Proportions de chaque classe de 1 à  3 [0.33146067 0.3988764  0.26966292]\n",
      "Chaque classe contient :  [59. 71. 48.]\n"
     ]
    },
    {
     "data": {
      "text/plain": [
       "Text(0.5, 1.0, 'Proportion de chaque classe')"
      ]
     },
     "execution_count": 24,
     "metadata": {},
     "output_type": "execute_result"
    },
    {
     "data": {
      "image/png": "[encoded data removed]",
      "text/plain": [
       "<Figure size 432x288 with 1 Axes>"
      ]
     },
     "metadata": {},
     "output_type": "display_data"
    }
   ],
   "source": [
    "# Constituera par la suite les proportions des labels\n",
    "labels_prop = np.zeros(n_classes)\n",
    "target_names = ['1', '2', '3']\n",
    "\n",
    "for k in range(n_classes):\n",
    "    labels_prop[k] = (y == k).sum() / n_sample\n",
    "\n",
    "print(\"Proportions de chaque classe de 1 à \", n_classes, labels_prop)\n",
    "print(\"Chaque classe contient : \", (n_sample * (labels_prop)))\n",
    "\n",
    "# Visualisation des proportions des classes :\n",
    "\n",
    "colors = np.r_[np.linspace(0.1, 1, n_classes), np.linspace(0.1, 1, n_classes)]\n",
    "mymap = plt.get_cmap(\"Reds\")\n",
    "my_colors = mymap(colors)\n",
    "plt.pie(labels_prop, labels=target_names, colors=my_colors)\n",
    "plt.title(\"Proportion de chaque classe\")"
   ]
  },
  {
   "cell_type": "code",
   "execution_count": 25,
   "metadata": {},
   "outputs": [
    {
     "data": {
      "image/png": "[encoded data removed]",
      "text/plain": [
       "<Figure size 864x360 with 1 Axes>"
      ]
     },
     "metadata": {
      "needs_background": "light"
     },
     "output_type": "display_data"
    }
   ],
   "source": [
    "from seaborn import distplot\n",
    "plt.figure(figsize=(12, 5))\n",
    "plt.title(\"Distribution des classes\")\n",
    "ax = distplot(y)"
   ]
  },
  {
   "cell_type": "markdown",
   "metadata": {},
   "source": [
    "### Protocol expérimental :"
   ]
  },
  {
   "cell_type": "code",
   "execution_count": 26,
   "metadata": {},
   "outputs": [
    {
     "name": "stdout",
     "output_type": "stream",
     "text": [
      "Taille du Training Set : 138\n",
      "Taille du Test Set : 40\n"
     ]
    }
   ],
   "source": [
    "X_train, X_test, y_train, y_test = train_test_split(X, y, test_size=0.22)\n",
    "\n",
    "print(\"Taille du Training Set :\", len(X_train))\n",
    "print(\"Taille du Test Set :\", len(X_test))"
   ]
  },
  {
   "cell_type": "markdown",
   "metadata": {},
   "source": [
    "### Choix du paramètre $k$, par validation croisée *(V-fold)*, pour l'algorithme $k$-NN :"
   ]
  },
  {
   "cell_type": "code",
   "execution_count": 27,
   "metadata": {},
   "outputs": [
    {
     "name": "stdout",
     "output_type": "stream",
     "text": [
      "n_voisins à tester : [1, 2, 3, 4, 5, 6, 7, 8, 9, 10]\n",
      "{'n_neighbors': [1, 2, 3, 4, 5, 6, 7, 8, 9, 10]}\n"
     ]
    },
    {
     "name": "stderr",
     "output_type": "stream",
     "text": [
      "C:\\Users\\utilisateur\\Anaconda3\\lib\\site-packages\\sklearn\\model_selection\\_search.py:814: DeprecationWarning: The default of the `iid` parameter will change from True to False in version 0.22 and will be removed in 0.24. This will change numeric results when test-set sizes are unequal.\n",
      "  DeprecationWarning)\n",
      "C:\\Users\\utilisateur\\Anaconda3\\lib\\site-packages\\sklearn\\model_selection\\_search.py:814: DeprecationWarning: The default of the `iid` parameter will change from True to False in version 0.22 and will be removed in 0.24. This will change numeric results when test-set sizes are unequal.\n",
      "  DeprecationWarning)\n"
     ]
    },
    {
     "name": "stdout",
     "output_type": "stream",
     "text": [
      "Le Meilleur paramètre trouvé est : {'n_neighbors': 1} avec une métrique d'évaluation accuracy de : 0.717391304347826\n",
      "Le Meilleur paramètre trouvé est : {'n_neighbors': 1} avec une métrique d'évaluation f1_macro de : 0.7004470569687961\n"
     ]
    }
   ],
   "source": [
    "grid_acc, grid_f1 = cross_validation_k(11, X_train, y_train)\n",
    "grid_acc.fit(X_train, y_train)\n",
    "grid_f1.fit(X_train, y_train)\n",
    "print(\"Le Meilleur paramètre trouvé est :\", grid_acc.best_params_,\n",
    "      \"avec une métrique d'évaluation accuracy de :\", grid_acc.best_score_)\n",
    "print(\"Le Meilleur paramètre trouvé est :\", grid_f1.best_params_,\n",
    "      \"avec une métrique d'évaluation f1_macro de :\", grid_f1.best_score_)"
   ]
  },
  {
   "cell_type": "code",
   "execution_count": 28,
   "metadata": {},
   "outputs": [
    {
     "name": "stdout",
     "output_type": "stream",
     "text": [
      "Prediction des labels pour le Test Set\n",
      "              precision    recall  f1-score   support\n",
      "\n",
      "           0       1.00      0.83      0.91        12\n",
      "           1       0.65      0.94      0.77        16\n",
      "           2       0.86      0.50      0.63        12\n",
      "\n",
      "    accuracy                           0.78        40\n",
      "   macro avg       0.84      0.76      0.77        40\n",
      "weighted avg       0.82      0.78      0.77        40\n",
      "\n"
     ]
    }
   ],
   "source": [
    "print(\"Prediction des labels pour le Test Set\")\n",
    "\n",
    "y_pred = grid_acc.predict(X_test)\n",
    "\n",
    "print(classification_report(y_test, y_pred))"
   ]
  },
  {
   "cell_type": "markdown",
   "metadata": {},
   "source": [
    "$\\bullet$ **Moralité :** Le choix optimal du paramètre $k$, pour la classification *k-NN*, par la voie de la validation croisée *V-fold*, est $k = 3$. En effet, ce choix maximise les métriques d'évaluation *(score)* de la validation croisée."
   ]
  },
  {
   "cell_type": "markdown",
   "metadata": {},
   "source": [
    "### Entraînement des méthodes sur le *Training Set*"
   ]
  },
  {
   "cell_type": "markdown",
   "metadata": {},
   "source": [
    "Maintenant que nous avons choisi le paramètre $k = 3$ optimal pour la classification par $k$ voisins les plus proches, nous procédons donc à l'entraînement des méthodes de classification sur nos données d'apprentissage *X_train*."
   ]
  },
  {
   "cell_type": "markdown",
   "metadata": {},
   "source": [
    "#### Temps de calcul pour l'apprentissage :"
   ]
  },
  {
   "cell_type": "code",
   "execution_count": 29,
   "metadata": {},
   "outputs": [
    {
     "name": "stderr",
     "output_type": "stream",
     "text": [
      "C:\\Users\\utilisateur\\Anaconda3\\lib\\site-packages\\sklearn\\svm\\base.py:193: FutureWarning: The default value of gamma will change from 'auto' to 'scale' in version 0.22 to account better for unscaled features. Set gamma explicitly to 'auto' or 'scale' to avoid this warning.\n",
      "  \"avoid this warning.\", FutureWarning)\n"
     ]
    },
    {
     "data": {
      "text/html": [
       "<div>\n",
       "<style scoped>\n",
       "    .dataframe tbody tr th:only-of-type {\n",
       "        vertical-align: middle;\n",
       "    }\n",
       "\n",
       "    .dataframe tbody tr th {\n",
       "        vertical-align: top;\n",
       "    }\n",
       "\n",
       "    .dataframe thead th {\n",
       "        text-align: right;\n",
       "    }\n",
       "</style>\n",
       "<table border=\"1\" class=\"dataframe\">\n",
       "  <thead>\n",
       "    <tr style=\"text-align: right;\">\n",
       "      <th></th>\n",
       "      <th>GNB</th>\n",
       "      <th>k-NN</th>\n",
       "      <th>LDA</th>\n",
       "      <th>LR_liblinear</th>\n",
       "      <th>LR_newton</th>\n",
       "      <th>QDA</th>\n",
       "      <th>SVM</th>\n",
       "      <th>RF</th>\n",
       "    </tr>\n",
       "  </thead>\n",
       "  <tbody>\n",
       "    <tr>\n",
       "      <td>Temps de calcul pour l'apprentissage, en seconde</td>\n",
       "      <td>0.002868</td>\n",
       "      <td>0.000963</td>\n",
       "      <td>0.003737</td>\n",
       "      <td>0.004713</td>\n",
       "      <td>0.046875</td>\n",
       "      <td>0.001014</td>\n",
       "      <td>0.143308</td>\n",
       "      <td>0.38441</td>\n",
       "    </tr>\n",
       "  </tbody>\n",
       "</table>\n",
       "</div>"
      ],
      "text/plain": [
       "                                                       GNB      k-NN  \\\n",
       "Temps de calcul pour l'apprentissage, en seconde  0.002868  0.000963   \n",
       "\n",
       "                                                       LDA  LR_liblinear  \\\n",
       "Temps de calcul pour l'apprentissage, en seconde  0.003737      0.004713   \n",
       "\n",
       "                                                  LR_newton       QDA  \\\n",
       "Temps de calcul pour l'apprentissage, en seconde   0.046875  0.001014   \n",
       "\n",
       "                                                       SVM       RF  \n",
       "Temps de calcul pour l'apprentissage, en seconde  0.143308  0.38441  "
      ]
     },
     "execution_count": 29,
     "metadata": {},
     "output_type": "execute_result"
    }
   ],
   "source": [
    "names = [\"GNB\", \"k-NN\", \"LDA\", \"LR_liblinear\", \"LR_newton\", \"QDA\", \"SVM\", \"RF\"]\n",
    "\n",
    "train_time = models_fitting(n_classes, k=3)[0]\n",
    "\n",
    "train_times = DataFrame(\n",
    "    [train_time],\n",
    "    index=[\"Temps de calcul pour l'apprentissage, en seconde\"],\n",
    "    columns=names)\n",
    "train_times"
   ]
  },
  {
   "cell_type": "markdown",
   "metadata": {},
   "source": [
    "#### Proportion d'erreurs de classification :"
   ]
  },
  {
   "cell_type": "code",
   "execution_count": 30,
   "metadata": {},
   "outputs": [
    {
     "name": "stderr",
     "output_type": "stream",
     "text": [
      "C:\\Users\\utilisateur\\Anaconda3\\lib\\site-packages\\sklearn\\svm\\base.py:193: FutureWarning: The default value of gamma will change from 'auto' to 'scale' in version 0.22 to account better for unscaled features. Set gamma explicitly to 'auto' or 'scale' to avoid this warning.\n",
      "  \"avoid this warning.\", FutureWarning)\n"
     ]
    },
    {
     "data": {
      "text/html": [
       "<div>\n",
       "<style scoped>\n",
       "    .dataframe tbody tr th:only-of-type {\n",
       "        vertical-align: middle;\n",
       "    }\n",
       "\n",
       "    .dataframe tbody tr th {\n",
       "        vertical-align: top;\n",
       "    }\n",
       "\n",
       "    .dataframe thead th {\n",
       "        text-align: right;\n",
       "    }\n",
       "</style>\n",
       "<table border=\"1\" class=\"dataframe\">\n",
       "  <thead>\n",
       "    <tr style=\"text-align: right;\">\n",
       "      <th></th>\n",
       "      <th>GNB</th>\n",
       "      <th>k-NN</th>\n",
       "      <th>LDA</th>\n",
       "      <th>LR_liblinear</th>\n",
       "      <th>LR_newton</th>\n",
       "      <th>QDA</th>\n",
       "      <th>SVM</th>\n",
       "      <th>RF</th>\n",
       "    </tr>\n",
       "  </thead>\n",
       "  <tbody>\n",
       "    <tr>\n",
       "      <td>Proportion d'erreurs de classification</td>\n",
       "      <td>2.5</td>\n",
       "      <td>22.5</td>\n",
       "      <td>2.5</td>\n",
       "      <td>5.0</td>\n",
       "      <td>5.0</td>\n",
       "      <td>2.5</td>\n",
       "      <td>2.5</td>\n",
       "      <td>2.5</td>\n",
       "    </tr>\n",
       "  </tbody>\n",
       "</table>\n",
       "</div>"
      ],
      "text/plain": [
       "                                        GNB  k-NN  LDA  LR_liblinear  \\\n",
       "Proportion d'erreurs de classification  2.5  22.5  2.5           5.0   \n",
       "\n",
       "                                        LR_newton  QDA  SVM   RF  \n",
       "Proportion d'erreurs de classification        5.0  2.5  2.5  2.5  "
      ]
     },
     "execution_count": 30,
     "metadata": {},
     "output_type": "execute_result"
    }
   ],
   "source": [
    "models = models_fitting(n_classes, k=1)[1]\n",
    "\n",
    "erreurs = classification_errors(models)\n",
    "errors_frame = DataFrame([erreurs],\n",
    "                         index=[\"Proportion d'erreurs de classification\"],\n",
    "                         columns=names)\n",
    "errors_frame"
   ]
  },
  {
   "cell_type": "markdown",
   "metadata": {},
   "source": [
    "#### Temps de calcul pour la validation :"
   ]
  },
  {
   "cell_type": "code",
   "execution_count": 31,
   "metadata": {},
   "outputs": [
    {
     "data": {
      "text/html": [
       "<div>\n",
       "<style scoped>\n",
       "    .dataframe tbody tr th:only-of-type {\n",
       "        vertical-align: middle;\n",
       "    }\n",
       "\n",
       "    .dataframe tbody tr th {\n",
       "        vertical-align: top;\n",
       "    }\n",
       "\n",
       "    .dataframe thead th {\n",
       "        text-align: right;\n",
       "    }\n",
       "</style>\n",
       "<table border=\"1\" class=\"dataframe\">\n",
       "  <thead>\n",
       "    <tr style=\"text-align: right;\">\n",
       "      <th></th>\n",
       "      <th>GNB</th>\n",
       "      <th>k-NN</th>\n",
       "      <th>LDA</th>\n",
       "      <th>LR_liblinear</th>\n",
       "      <th>LR_newton</th>\n",
       "      <th>QDA</th>\n",
       "      <th>SVM</th>\n",
       "      <th>RF</th>\n",
       "    </tr>\n",
       "  </thead>\n",
       "  <tbody>\n",
       "    <tr>\n",
       "      <td>Temps de calcul pour la validation, en seconde</td>\n",
       "      <td>0.001027</td>\n",
       "      <td>0.003987</td>\n",
       "      <td>0.000287</td>\n",
       "      <td>0.000223</td>\n",
       "      <td>0.000356</td>\n",
       "      <td>0.000398</td>\n",
       "      <td>0.000186</td>\n",
       "      <td>0.111563</td>\n",
       "    </tr>\n",
       "  </tbody>\n",
       "</table>\n",
       "</div>"
      ],
      "text/plain": [
       "                                                     GNB      k-NN       LDA  \\\n",
       "Temps de calcul pour la validation, en seconde  0.001027  0.003987  0.000287   \n",
       "\n",
       "                                                LR_liblinear  LR_newton  \\\n",
       "Temps de calcul pour la validation, en seconde      0.000223   0.000356   \n",
       "\n",
       "                                                     QDA       SVM        RF  \n",
       "Temps de calcul pour la validation, en seconde  0.000398  0.000186  0.111563  "
      ]
     },
     "execution_count": 31,
     "metadata": {},
     "output_type": "execute_result"
    }
   ],
   "source": [
    "test_time = f1_score_test(models)[1]\n",
    "\n",
    "validation_times = DataFrame(\n",
    "    [test_time],\n",
    "    index=[\"Temps de calcul pour la validation, en seconde\"],\n",
    "    columns=names)\n",
    "validation_times"
   ]
  },
  {
   "cell_type": "markdown",
   "metadata": {},
   "source": [
    "#### Score F1 pour chaque méthode"
   ]
  },
  {
   "cell_type": "code",
   "execution_count": 32,
   "metadata": {},
   "outputs": [
    {
     "data": {
      "text/html": [
       "<div>\n",
       "<style scoped>\n",
       "    .dataframe tbody tr th:only-of-type {\n",
       "        vertical-align: middle;\n",
       "    }\n",
       "\n",
       "    .dataframe tbody tr th {\n",
       "        vertical-align: top;\n",
       "    }\n",
       "\n",
       "    .dataframe thead th {\n",
       "        text-align: right;\n",
       "    }\n",
       "</style>\n",
       "<table border=\"1\" class=\"dataframe\">\n",
       "  <thead>\n",
       "    <tr style=\"text-align: right;\">\n",
       "      <th></th>\n",
       "      <th>GNB</th>\n",
       "      <th>k-NN</th>\n",
       "      <th>LDA</th>\n",
       "      <th>LR_liblinear</th>\n",
       "      <th>LR_newton</th>\n",
       "      <th>QDA</th>\n",
       "      <th>SVM</th>\n",
       "      <th>RF</th>\n",
       "    </tr>\n",
       "  </thead>\n",
       "  <tbody>\n",
       "    <tr>\n",
       "      <td>Score F1 pour chaque méthode</td>\n",
       "      <td>0.975406</td>\n",
       "      <td>0.769967</td>\n",
       "      <td>0.975914</td>\n",
       "      <td>0.951407</td>\n",
       "      <td>0.951407</td>\n",
       "      <td>0.975406</td>\n",
       "      <td>0.975406</td>\n",
       "      <td>0.975406</td>\n",
       "    </tr>\n",
       "  </tbody>\n",
       "</table>\n",
       "</div>"
      ],
      "text/plain": [
       "                                   GNB      k-NN       LDA  LR_liblinear  \\\n",
       "Score F1 pour chaque méthode  0.975406  0.769967  0.975914      0.951407   \n",
       "\n",
       "                              LR_newton       QDA       SVM        RF  \n",
       "Score F1 pour chaque méthode   0.951407  0.975406  0.975406  0.975406  "
      ]
     },
     "execution_count": 32,
     "metadata": {},
     "output_type": "execute_result"
    }
   ],
   "source": [
    "score_F1 = f1_score_test(models)[0]\n",
    "\n",
    "scoref1_frame = DataFrame([score_F1],\n",
    "                          index=[\"Score F1 pour chaque méthode\"],\n",
    "                          columns=names)\n",
    "scoref1_frame"
   ]
  },
  {
   "cell_type": "markdown",
   "metadata": {},
   "source": [
    "#### Synthèse : "
   ]
  },
  {
   "cell_type": "code",
   "execution_count": 33,
   "metadata": {},
   "outputs": [
    {
     "data": {
      "text/html": [
       "<div>\n",
       "<style scoped>\n",
       "    .dataframe tbody tr th:only-of-type {\n",
       "        vertical-align: middle;\n",
       "    }\n",
       "\n",
       "    .dataframe tbody tr th {\n",
       "        vertical-align: top;\n",
       "    }\n",
       "\n",
       "    .dataframe thead th {\n",
       "        text-align: right;\n",
       "    }\n",
       "</style>\n",
       "<table border=\"1\" class=\"dataframe\">\n",
       "  <thead>\n",
       "    <tr style=\"text-align: right;\">\n",
       "      <th></th>\n",
       "      <th>GNB</th>\n",
       "      <th>k-NN</th>\n",
       "      <th>LDA</th>\n",
       "      <th>LR_liblinear</th>\n",
       "      <th>LR_newton</th>\n",
       "      <th>QDA</th>\n",
       "      <th>SVM</th>\n",
       "      <th>RF</th>\n",
       "    </tr>\n",
       "  </thead>\n",
       "  <tbody>\n",
       "    <tr>\n",
       "      <td>Temps de calcul pour l'apprentissage, en seconde</td>\n",
       "      <td>0.002868</td>\n",
       "      <td>0.000963</td>\n",
       "      <td>0.003737</td>\n",
       "      <td>0.004713</td>\n",
       "      <td>0.046875</td>\n",
       "      <td>0.001014</td>\n",
       "      <td>0.143308</td>\n",
       "      <td>0.384410</td>\n",
       "    </tr>\n",
       "    <tr>\n",
       "      <td>Temps de calcul pour la validation, en seconde</td>\n",
       "      <td>0.001027</td>\n",
       "      <td>0.003987</td>\n",
       "      <td>0.000287</td>\n",
       "      <td>0.000223</td>\n",
       "      <td>0.000356</td>\n",
       "      <td>0.000398</td>\n",
       "      <td>0.000186</td>\n",
       "      <td>0.111563</td>\n",
       "    </tr>\n",
       "    <tr>\n",
       "      <td>Proportion d'erreurs de classification</td>\n",
       "      <td>2.500000</td>\n",
       "      <td>22.500000</td>\n",
       "      <td>2.500000</td>\n",
       "      <td>5.000000</td>\n",
       "      <td>5.000000</td>\n",
       "      <td>2.500000</td>\n",
       "      <td>2.500000</td>\n",
       "      <td>2.500000</td>\n",
       "    </tr>\n",
       "    <tr>\n",
       "      <td>Score F1 pour chaque méthode</td>\n",
       "      <td>0.975406</td>\n",
       "      <td>0.769967</td>\n",
       "      <td>0.975914</td>\n",
       "      <td>0.951407</td>\n",
       "      <td>0.951407</td>\n",
       "      <td>0.975406</td>\n",
       "      <td>0.975406</td>\n",
       "      <td>0.975406</td>\n",
       "    </tr>\n",
       "  </tbody>\n",
       "</table>\n",
       "</div>"
      ],
      "text/plain": [
       "                                                       GNB       k-NN  \\\n",
       "Temps de calcul pour l'apprentissage, en seconde  0.002868   0.000963   \n",
       "Temps de calcul pour la validation, en seconde    0.001027   0.003987   \n",
       "Proportion d'erreurs de classification            2.500000  22.500000   \n",
       "Score F1 pour chaque méthode                      0.975406   0.769967   \n",
       "\n",
       "                                                       LDA  LR_liblinear  \\\n",
       "Temps de calcul pour l'apprentissage, en seconde  0.003737      0.004713   \n",
       "Temps de calcul pour la validation, en seconde    0.000287      0.000223   \n",
       "Proportion d'erreurs de classification            2.500000      5.000000   \n",
       "Score F1 pour chaque méthode                      0.975914      0.951407   \n",
       "\n",
       "                                                  LR_newton       QDA  \\\n",
       "Temps de calcul pour l'apprentissage, en seconde   0.046875  0.001014   \n",
       "Temps de calcul pour la validation, en seconde     0.000356  0.000398   \n",
       "Proportion d'erreurs de classification             5.000000  2.500000   \n",
       "Score F1 pour chaque méthode                       0.951407  0.975406   \n",
       "\n",
       "                                                       SVM        RF  \n",
       "Temps de calcul pour l'apprentissage, en seconde  0.143308  0.384410  \n",
       "Temps de calcul pour la validation, en seconde    0.000186  0.111563  \n",
       "Proportion d'erreurs de classification            2.500000  2.500000  \n",
       "Score F1 pour chaque méthode                      0.975406  0.975406  "
      ]
     },
     "execution_count": 33,
     "metadata": {},
     "output_type": "execute_result"
    }
   ],
   "source": [
    "synthese = concat(\n",
    "    [train_times, validation_times, errors_frame, scoref1_frame], )\n",
    "synthese"
   ]
  },
  {
   "cell_type": "markdown",
   "metadata": {},
   "source": [
    "#### Matrices de confusion de la meilleure et pire méthode :"
   ]
  },
  {
   "cell_type": "code",
   "execution_count": 34,
   "metadata": {},
   "outputs": [
    {
     "name": "stdout",
     "output_type": "stream",
     "text": [
      "Le méthode  GNB , a la plus petite proportion d'erreurs de classification : 2.500000000000002\n",
      "Le méthode  k-NN , a la plus grande proportion d'erreurs de classification : 22.499999999999996\n"
     ]
    }
   ],
   "source": [
    "print(\"Le méthode \",\n",
    "      DataFrame.idxmin(errors_frame, axis=1)[0],\n",
    "      \", a la plus petite proportion d'erreurs de classification :\",\n",
    "      DataFrame.min(errors_frame, axis=1)[0])\n",
    "\n",
    "print(\"Le méthode \",\n",
    "      DataFrame.idxmax(errors_frame, axis=1)[0],\n",
    "      \", a la plus grande proportion d'erreurs de classification :\",\n",
    "      DataFrame.max(errors_frame, axis=1)[0])"
   ]
  },
  {
   "cell_type": "code",
   "execution_count": 35,
   "metadata": {},
   "outputs": [
    {
     "data": {
      "image/png": "[encoded data removed]",
      "text/plain": [
       "<Figure size 288x288 with 1 Axes>"
      ]
     },
     "metadata": {
      "needs_background": "light"
     },
     "output_type": "display_data"
    },
    {
     "data": {
      "image/png": "[encoded data removed]",
      "text/plain": [
       "<Figure size 288x288 with 1 Axes>"
      ]
     },
     "metadata": {
      "needs_background": "light"
     },
     "output_type": "display_data"
    }
   ],
   "source": [
    "# Indices de la \"meilleure\" et \"pire\" des méthodes.\n",
    "idx_models = [np.argmin(erreurs), np.argmax(erreurs)]\n",
    "\n",
    "for i in range(2):\n",
    "    y_pred = models[idx_models[i]].predict(X_test)\n",
    "    MC = metrics.confusion_matrix(y_test, y_pred)\n",
    "    MC_norm = 1.0 * MC / MC.sum(axis=1)[:, np.newaxis]\n",
    "    # On normalise la matrice de confusion pour qu'elle représente\n",
    "    # la proportion et pas le nombre d'erreurs pour chaque classe.\n",
    "    plt.matshow(MC_norm, cmap=plt.cm.Spectral_r, interpolation='none')\n",
    "    plt.title(\"Matrice de confusion de la méthode \" + names[idx_models[i]],\n",
    "              fontsize=20,\n",
    "              pad=20)\n",
    "    plt.xlabel(\"Predicted\")\n",
    "    plt.ylabel(\"True\")"
   ]
  },
  {
   "cell_type": "markdown",
   "metadata": {},
   "source": [
    "#### Courbe d'apprentissage pour k-NN :"
   ]
  },
  {
   "cell_type": "code",
   "execution_count": 36,
   "metadata": {},
   "outputs": [
    {
     "data": {
      "text/plain": [
       "<module 'matplotlib.pyplot' from 'C:\\\\Users\\\\utilisateur\\\\Anaconda3\\\\lib\\\\site-packages\\\\matplotlib\\\\pyplot.py'>"
      ]
     },
     "execution_count": 36,
     "metadata": {},
     "output_type": "execute_result"
    },
    {
     "data": {
      "text/plain": [
       "<Figure size 720x720 with 0 Axes>"
      ]
     },
     "metadata": {},
     "output_type": "display_data"
    },
    {
     "data": {
      "image/png": "[encoded data removed]",
      "text/plain": [
       "<Figure size 432x288 with 1 Axes>"
      ]
     },
     "metadata": {
      "needs_background": "light"
     },
     "output_type": "display_data"
    }
   ],
   "source": [
    "title = \"Learning Curves (k-NN)\"\n",
    "#cv = ShuffleSplit(n_splits=100, test_size=0.2, random_state=0)\n",
    "\n",
    "plt.figure(figsize=(10, 10))\n",
    "\n",
    "plot_learning_curve(models[1], title, X, y, ylim=(0.7, 1.01), cv=6, n_jobs=4)"
   ]
  }
 ],
 "metadata": {
  "kernelspec": {
   "display_name": "Python 3",
   "language": "python",
   "name": "python3"
  },
  "language_info": {
   "codemirror_mode": {
    "name": "ipython",
    "version": 3
   },
   "file_extension": ".py",
   "mimetype": "text/x-python",
   "name": "python",
   "nbconvert_exporter": "python",
   "pygments_lexer": "ipython3",
   "version": "3.7.4"
  }
 },
 "nbformat": 4,
 "nbformat_minor": 2
}
